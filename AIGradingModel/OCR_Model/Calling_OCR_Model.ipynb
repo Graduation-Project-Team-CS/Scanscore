{
  "cells": [
    {
      "cell_type": "code",
      "execution_count": 1,
      "metadata": {
        "colab": {
          "base_uri": "https://localhost:8080/"
        },
        "id": "LQOSeKX5c7ad",
        "outputId": "e44abd76-a4cc-40e7-b5ef-6dc3151ca3f2"
      },
      "outputs": [
        {
          "name": "stdout",
          "output_type": "stream",
          "text": [
            "Requirement already satisfied: openpyxl in c:\\users\\nadaf\\anaconda3\\lib\\site-packages (3.0.10)\n",
            "Requirement already satisfied: et_xmlfile in c:\\users\\nadaf\\anaconda3\\lib\\site-packages (from openpyxl) (1.1.0)\n"
          ]
        }
      ],
      "source": [
        "!pip install openpyxl"
      ]
    },
    {
      "cell_type": "code",
      "execution_count": 2,
      "metadata": {
        "colab": {
          "base_uri": "https://localhost:8080/"
        },
        "id": "eFGNFOvUdNnL",
        "outputId": "cef1648d-87a8-4001-b671-62d125d89e07"
      },
      "outputs": [
        {
          "name": "stdout",
          "output_type": "stream",
          "text": [
            "Requirement already satisfied: sentence_transformers in c:\\users\\nadaf\\anaconda3\\lib\\site-packages (2.2.2)\n",
            "Requirement already satisfied: transformers<5.0.0,>=4.6.0 in c:\\users\\nadaf\\anaconda3\\lib\\site-packages (from sentence_transformers) (4.36.1)\n",
            "Requirement already satisfied: tqdm in c:\\users\\nadaf\\anaconda3\\lib\\site-packages (from sentence_transformers) (4.65.0)\n",
            "Requirement already satisfied: torch>=1.6.0 in c:\\users\\nadaf\\anaconda3\\lib\\site-packages (from sentence_transformers) (2.1.2)\n",
            "Requirement already satisfied: torchvision in c:\\users\\nadaf\\anaconda3\\lib\\site-packages (from sentence_transformers) (0.16.2)\n",
            "Requirement already satisfied: numpy in c:\\users\\nadaf\\anaconda3\\lib\\site-packages (from sentence_transformers) (1.24.3)\n",
            "Requirement already satisfied: scikit-learn in c:\\users\\nadaf\\anaconda3\\lib\\site-packages (from sentence_transformers) (1.3.0)\n",
            "Requirement already satisfied: scipy in c:\\users\\nadaf\\anaconda3\\lib\\site-packages (from sentence_transformers) (1.10.1)\n",
            "Requirement already satisfied: nltk in c:\\users\\nadaf\\anaconda3\\lib\\site-packages (from sentence_transformers) (3.8.1)\n",
            "Requirement already satisfied: sentencepiece in c:\\users\\nadaf\\anaconda3\\lib\\site-packages (from sentence_transformers) (0.1.99)\n",
            "Requirement already satisfied: huggingface-hub>=0.4.0 in c:\\users\\nadaf\\anaconda3\\lib\\site-packages (from sentence_transformers) (0.19.4)\n",
            "Requirement already satisfied: filelock in c:\\users\\nadaf\\anaconda3\\lib\\site-packages (from huggingface-hub>=0.4.0->sentence_transformers) (3.13.1)\n",
            "Requirement already satisfied: fsspec>=2023.5.0 in c:\\users\\nadaf\\anaconda3\\lib\\site-packages (from huggingface-hub>=0.4.0->sentence_transformers) (2023.12.2)\n",
            "Requirement already satisfied: requests in c:\\users\\nadaf\\anaconda3\\lib\\site-packages (from huggingface-hub>=0.4.0->sentence_transformers) (2.31.0)\n",
            "Requirement already satisfied: pyyaml>=5.1 in c:\\users\\nadaf\\anaconda3\\lib\\site-packages (from huggingface-hub>=0.4.0->sentence_transformers) (6.0)\n",
            "Requirement already satisfied: typing-extensions>=3.7.4.3 in c:\\users\\nadaf\\anaconda3\\lib\\site-packages (from huggingface-hub>=0.4.0->sentence_transformers) (4.7.1)\n",
            "Requirement already satisfied: packaging>=20.9 in c:\\users\\nadaf\\appdata\\roaming\\python\\python311\\site-packages (from huggingface-hub>=0.4.0->sentence_transformers) (23.2)\n",
            "Requirement already satisfied: sympy in c:\\users\\nadaf\\anaconda3\\lib\\site-packages (from torch>=1.6.0->sentence_transformers) (1.11.1)\n",
            "Requirement already satisfied: networkx in c:\\users\\nadaf\\anaconda3\\lib\\site-packages (from torch>=1.6.0->sentence_transformers) (3.1)\n",
            "Requirement already satisfied: jinja2 in c:\\users\\nadaf\\anaconda3\\lib\\site-packages (from torch>=1.6.0->sentence_transformers) (3.1.2)\n",
            "Requirement already satisfied: colorama in c:\\users\\nadaf\\appdata\\roaming\\python\\python311\\site-packages (from tqdm->sentence_transformers) (0.4.6)\n",
            "Requirement already satisfied: regex!=2019.12.17 in c:\\users\\nadaf\\anaconda3\\lib\\site-packages (from transformers<5.0.0,>=4.6.0->sentence_transformers) (2022.7.9)\n",
            "Requirement already satisfied: tokenizers<0.19,>=0.14 in c:\\users\\nadaf\\anaconda3\\lib\\site-packages (from transformers<5.0.0,>=4.6.0->sentence_transformers) (0.15.0)\n",
            "Requirement already satisfied: safetensors>=0.3.1 in c:\\users\\nadaf\\anaconda3\\lib\\site-packages (from transformers<5.0.0,>=4.6.0->sentence_transformers) (0.4.1)\n",
            "Requirement already satisfied: click in c:\\users\\nadaf\\anaconda3\\lib\\site-packages (from nltk->sentence_transformers) (8.0.4)\n",
            "Requirement already satisfied: joblib in c:\\users\\nadaf\\anaconda3\\lib\\site-packages (from nltk->sentence_transformers) (1.2.0)\n",
            "Requirement already satisfied: threadpoolctl>=2.0.0 in c:\\users\\nadaf\\anaconda3\\lib\\site-packages (from scikit-learn->sentence_transformers) (2.2.0)\n",
            "Requirement already satisfied: pillow!=8.3.*,>=5.3.0 in c:\\users\\nadaf\\anaconda3\\lib\\site-packages (from torchvision->sentence_transformers) (9.4.0)\n",
            "Requirement already satisfied: MarkupSafe>=2.0 in c:\\users\\nadaf\\anaconda3\\lib\\site-packages (from jinja2->torch>=1.6.0->sentence_transformers) (2.1.1)\n",
            "Requirement already satisfied: charset-normalizer<4,>=2 in c:\\users\\nadaf\\anaconda3\\lib\\site-packages (from requests->huggingface-hub>=0.4.0->sentence_transformers) (2.0.4)\n",
            "Requirement already satisfied: idna<4,>=2.5 in c:\\users\\nadaf\\anaconda3\\lib\\site-packages (from requests->huggingface-hub>=0.4.0->sentence_transformers) (3.4)\n",
            "Requirement already satisfied: urllib3<3,>=1.21.1 in c:\\users\\nadaf\\anaconda3\\lib\\site-packages (from requests->huggingface-hub>=0.4.0->sentence_transformers) (1.26.16)\n",
            "Requirement already satisfied: certifi>=2017.4.17 in c:\\users\\nadaf\\anaconda3\\lib\\site-packages (from requests->huggingface-hub>=0.4.0->sentence_transformers) (2023.7.22)\n",
            "Requirement already satisfied: mpmath>=0.19 in c:\\users\\nadaf\\anaconda3\\lib\\site-packages (from sympy->torch>=1.6.0->sentence_transformers) (1.3.0)\n"
          ]
        }
      ],
      "source": [
        "!pip install sentence_transformers"
      ]
    },
    {
      "cell_type": "code",
      "execution_count": 3,
      "metadata": {
        "colab": {
          "base_uri": "https://localhost:8080/"
        },
        "id": "kSBQBdtMdRRF",
        "outputId": "9bbfd8f7-0bd1-4d8d-f478-032f03c35956"
      },
      "outputs": [
        {
          "name": "stdout",
          "output_type": "stream",
          "text": [
            "Requirement already satisfied: pandas in c:\\users\\nadaf\\anaconda3\\lib\\site-packages (1.5.3)\n",
            "Requirement already satisfied: openpyxl in c:\\users\\nadaf\\anaconda3\\lib\\site-packages (3.0.10)\n",
            "Requirement already satisfied: python-dateutil>=2.8.1 in c:\\users\\nadaf\\appdata\\roaming\\python\\python311\\site-packages (from pandas) (2.8.2)\n",
            "Requirement already satisfied: pytz>=2020.1 in c:\\users\\nadaf\\anaconda3\\lib\\site-packages (from pandas) (2022.7)\n",
            "Requirement already satisfied: numpy>=1.21.0 in c:\\users\\nadaf\\anaconda3\\lib\\site-packages (from pandas) (1.24.3)\n",
            "Requirement already satisfied: et_xmlfile in c:\\users\\nadaf\\anaconda3\\lib\\site-packages (from openpyxl) (1.1.0)\n",
            "Requirement already satisfied: six>=1.5 in c:\\users\\nadaf\\appdata\\roaming\\python\\python311\\site-packages (from python-dateutil>=2.8.1->pandas) (1.16.0)\n"
          ]
        }
      ],
      "source": [
        "!pip install pandas openpyxl"
      ]
    },
    {
      "cell_type": "code",
      "execution_count": 4,
      "metadata": {
        "id": "VoVaowv4dUSi"
      },
      "outputs": [],
      "source": [
        "!mkdir images"
      ]
    },
    {
      "cell_type": "code",
      "execution_count": 5,
      "metadata": {
        "colab": {
          "base_uri": "https://localhost:8080/"
        },
        "id": "0lkbZxygdZdf",
        "outputId": "8d15b9a6-5f80-472b-ad45-3aac631c363d"
      },
      "outputs": [
        {
          "ename": "FileNotFoundError",
          "evalue": "[Errno 2] No such file or directory: '/content/images/WhatsApp Image 2024-04-28 at 4.27.06 PM.jpeg'",
          "output_type": "error",
          "traceback": [
            "\u001b[1;31m---------------------------------------------------------------------------\u001b[0m",
            "\u001b[1;31mFileNotFoundError\u001b[0m                         Traceback (most recent call last)",
            "Cell \u001b[1;32mIn[5], line 12\u001b[0m\n\u001b[0;32m      9\u001b[0m file_path \u001b[38;5;241m=\u001b[39m \u001b[38;5;124m'\u001b[39m\u001b[38;5;124mFinal_SBERT_Dataset.xlsx\u001b[39m\u001b[38;5;124m'\u001b[39m\n\u001b[0;32m     11\u001b[0m \u001b[38;5;66;03m#ocr stage\u001b[39;00m\n\u001b[1;32m---> 12\u001b[0m \u001b[38;5;28mprint\u001b[39m(\u001b[43mOCR_Model\u001b[49m\u001b[38;5;241;43m.\u001b[39;49m\u001b[43mextract_text_and_store\u001b[49m\u001b[43m(\u001b[49m\u001b[43mfile_path\u001b[49m\u001b[43m)\u001b[49m)\n",
            "File \u001b[1;32mc:\\Users\\nadaf\\OneDrive\\Nada\\FCAI\\GP\\Scanscore\\Scanscore\\AIGradingModel\\OCR_Model\\OCR_Model.py:31\u001b[0m, in \u001b[0;36mextract_text_and_store\u001b[1;34m(images_excel)\u001b[0m\n\u001b[0;32m     29\u001b[0m \u001b[38;5;28;01mfor\u001b[39;00m row \u001b[38;5;129;01min\u001b[39;00m \u001b[38;5;28mrange\u001b[39m(\u001b[38;5;241m2\u001b[39m, sheet\u001b[38;5;241m.\u001b[39mmax_row \u001b[38;5;241m+\u001b[39m \u001b[38;5;241m1\u001b[39m):\n\u001b[0;32m     30\u001b[0m     image_path \u001b[38;5;241m=\u001b[39m sheet\u001b[38;5;241m.\u001b[39mcell(row\u001b[38;5;241m=\u001b[39mrow, column\u001b[38;5;241m=\u001b[39m\u001b[38;5;241m1\u001b[39m)\u001b[38;5;241m.\u001b[39mvalue\n\u001b[1;32m---> 31\u001b[0m     extracted_text \u001b[38;5;241m=\u001b[39m \u001b[43mocr_space_file\u001b[49m\u001b[43m(\u001b[49m\u001b[43mfilename\u001b[49m\u001b[38;5;241;43m=\u001b[39;49m\u001b[43mimage_path\u001b[49m\u001b[43m)\u001b[49m\n\u001b[0;32m     33\u001b[0m     response_data \u001b[38;5;241m=\u001b[39m json\u001b[38;5;241m.\u001b[39mloads(extracted_text)\n\u001b[0;32m     34\u001b[0m     extracted_text_concatenated \u001b[38;5;241m=\u001b[39m response_data[\u001b[38;5;124m\"\u001b[39m\u001b[38;5;124mParsedResults\u001b[39m\u001b[38;5;124m\"\u001b[39m][\u001b[38;5;241m0\u001b[39m][\u001b[38;5;124m\"\u001b[39m\u001b[38;5;124mParsedText\u001b[39m\u001b[38;5;124m\"\u001b[39m] \u001b[38;5;28;01mif\u001b[39;00m \u001b[38;5;124m\"\u001b[39m\u001b[38;5;124mParsedResults\u001b[39m\u001b[38;5;124m\"\u001b[39m \u001b[38;5;129;01min\u001b[39;00m response_data \u001b[38;5;28;01melse\u001b[39;00m \u001b[38;5;124m\"\u001b[39m\u001b[38;5;124m\"\u001b[39m\n",
            "File \u001b[1;32mc:\\Users\\nadaf\\OneDrive\\Nada\\FCAI\\GP\\Scanscore\\Scanscore\\AIGradingModel\\OCR_Model\\OCR_Model.py:15\u001b[0m, in \u001b[0;36mocr_space_file\u001b[1;34m(filename, overlay, api_key, language)\u001b[0m\n\u001b[0;32m      7\u001b[0m \u001b[38;5;28;01mdef\u001b[39;00m \u001b[38;5;21mocr_space_file\u001b[39m(filename, overlay\u001b[38;5;241m=\u001b[39m\u001b[38;5;28;01mFalse\u001b[39;00m, api_key\u001b[38;5;241m=\u001b[39m\u001b[38;5;124m'\u001b[39m\u001b[38;5;124m1b70baf52f88957\u001b[39m\u001b[38;5;124m'\u001b[39m, language\u001b[38;5;241m=\u001b[39m\u001b[38;5;124m'\u001b[39m\u001b[38;5;124meng\u001b[39m\u001b[38;5;124m'\u001b[39m):\n\u001b[0;32m      8\u001b[0m     payload \u001b[38;5;241m=\u001b[39m {\u001b[38;5;124m'\u001b[39m\u001b[38;5;124misOverlayRequired\u001b[39m\u001b[38;5;124m'\u001b[39m: overlay,\n\u001b[0;32m      9\u001b[0m                \u001b[38;5;124m'\u001b[39m\u001b[38;5;124mapikey\u001b[39m\u001b[38;5;124m'\u001b[39m: api_key,\n\u001b[0;32m     10\u001b[0m                \u001b[38;5;124m'\u001b[39m\u001b[38;5;124mlanguage\u001b[39m\u001b[38;5;124m'\u001b[39m: language,\n\u001b[1;32m   (...)\u001b[0m\n\u001b[0;32m     13\u001b[0m                \u001b[38;5;124m'\u001b[39m\u001b[38;5;124mOCREngine\u001b[39m\u001b[38;5;124m'\u001b[39m: \u001b[38;5;241m2\u001b[39m,\n\u001b[0;32m     14\u001b[0m               }\n\u001b[1;32m---> 15\u001b[0m     \u001b[38;5;28;01mwith\u001b[39;00m \u001b[38;5;28;43mopen\u001b[39;49m\u001b[43m(\u001b[49m\u001b[43mfilename\u001b[49m\u001b[43m,\u001b[49m\u001b[43m \u001b[49m\u001b[38;5;124;43m'\u001b[39;49m\u001b[38;5;124;43mrb\u001b[39;49m\u001b[38;5;124;43m'\u001b[39;49m\u001b[43m)\u001b[49m \u001b[38;5;28;01mas\u001b[39;00m f:\n\u001b[0;32m     16\u001b[0m         r \u001b[38;5;241m=\u001b[39m requests\u001b[38;5;241m.\u001b[39mpost(\u001b[38;5;124m'\u001b[39m\u001b[38;5;124mhttps://api.ocr.space/parse/image\u001b[39m\u001b[38;5;124m'\u001b[39m,\n\u001b[0;32m     17\u001b[0m                           files\u001b[38;5;241m=\u001b[39m{filename: f},\n\u001b[0;32m     18\u001b[0m                           data\u001b[38;5;241m=\u001b[39mpayload,\n\u001b[0;32m     19\u001b[0m                           )\n\u001b[0;32m     20\u001b[0m     \u001b[38;5;28;01mreturn\u001b[39;00m r\u001b[38;5;241m.\u001b[39mcontent\u001b[38;5;241m.\u001b[39mdecode()\n",
            "\u001b[1;31mFileNotFoundError\u001b[0m: [Errno 2] No such file or directory: '/content/images/WhatsApp Image 2024-04-28 at 4.27.06 PM.jpeg'"
          ]
        }
      ],
      "source": [
        "import OCR_Model\n",
        "import requests\n",
        "import json\n",
        "import os\n",
        "from openpyxl import load_workbook\n",
        "import pandas as pd\n",
        "\n",
        "# Path to the Excel file containing image paths\n",
        "file_path = 'Final_SBERT_Dataset.xlsx'\n",
        "\n",
        "#ocr stage\n",
        "print(OCR_Model.extract_text_and_store(file_path))"
      ]
    },
    {
      "cell_type": "code",
      "execution_count": null,
      "metadata": {
        "colab": {
          "base_uri": "https://localhost:8080/"
        },
        "id": "TJSkoVj-eUm5",
        "outputId": "9c760aa4-fd69-4403-f0ca-6812dab251f7"
      },
      "outputs": [
        {
          "name": "stdout",
          "output_type": "stream",
          "text": [
            "  Student ID  Final Grade\n",
            "0   20226183     4.982484\n",
            "1  202 16077     6.662079\n",
            "2   20216112     6.321673\n",
            "3    2216101     6.736385\n",
            "4   20216083     6.762457\n"
          ]
        }
      ],
      "source": [
        "import SBERT_Grading_Model\n",
        "from sentence_transformers import SentenceTransformer\n",
        "from sklearn.metrics.pairwise import cosine_similarity\n",
        "\n",
        "student_answers_df = pd.read_excel(file_path, sheet_name=\"StudentAnswerExtracted\")\n",
        "exam_questions_df  = pd.read_excel(file_path, sheet_name=\"ExamQuestions\")\n",
        "\n",
        "#grading stage\n",
        "# Load SBERT model\n",
        "sbert_model = SentenceTransformer(\"all-MiniLM-L6-v2\")\n",
        "\n",
        "# Calculate final grades using the function from the module\n",
        "final_grades_df = SBERT_Grading_Model.calculate_final_grades(student_answers_df, exam_questions_df, sbert_model)\n",
        "\n",
        "# Save grades in a new file\n",
        "with pd.ExcelWriter('Final_Grades.xlsx') as writer:\n",
        "    final_grades_df.to_excel(writer, sheet_name='FinalGrades', index=False)\n",
        "\n",
        "print(final_grades_df)"
      ]
    },
    {
      "cell_type": "code",
      "execution_count": null,
      "metadata": {
        "id": "FJeyFe_2desY"
      },
      "outputs": [],
      "source": []
    }
  ],
  "metadata": {
    "colab": {
      "provenance": []
    },
    "kernelspec": {
      "display_name": "Python (myenv)",
      "language": "python",
      "name": "myenv"
    },
    "language_info": {
      "codemirror_mode": {
        "name": "ipython",
        "version": 3
      },
      "file_extension": ".py",
      "mimetype": "text/x-python",
      "name": "python",
      "nbconvert_exporter": "python",
      "pygments_lexer": "ipython3",
      "version": "3.11.4"
    }
  },
  "nbformat": 4,
  "nbformat_minor": 0
}
